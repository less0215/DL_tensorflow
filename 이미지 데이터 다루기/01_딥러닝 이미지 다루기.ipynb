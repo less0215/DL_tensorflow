{
 "cells": [
  {
   "cell_type": "markdown",
   "metadata": {},
   "source": [
    "데이터셋 불러오기 및 이미지 확인"
   ]
  },
  {
   "cell_type": "code",
   "execution_count": null,
   "metadata": {},
   "outputs": [],
   "source": [
    "import tensorflow as tf\n",
    "import matplotlib.pyplot as plt\n",
    "\n",
    "### 구글에 있는 데이터셋 가져오기\n",
    "    # 이미지를 숫자로 변환할 때는 RGB 코드를 사용한다.\n",
    "    # RGB 코드는 0부터 255까지 있다.\n",
    "(trainX, trainY), (testX, testY) = tf.keras.datasets.fashion_mnist.load_data()\n",
    "\n",
    "### 불러온 데이터 값 확인하기\n",
    "# print(trainX[0])\n",
    "\n",
    "### 데이터 크기 확인하기\n",
    "print(trainX.shape)\n",
    "\n",
    "### 카테고리 분류\n",
    "    # 불러온 데이터에서 숫자가 나오는데, 0이면 'T-shirt/top'\n",
    "class_names = ['T-shirt/top', 'Trouser', 'Pullover', 'Dress', 'Coat', 'Sandal', 'Shirt', 'Sneaker', 'Bag', 'Ankle boot']\n",
    "\n",
    "### 이미지 확인하기\n",
    "\n",
    "# 소괄호 안에 있는 이미지 보여줘.\n",
    "plt.imshow(trainX[1])\n",
    "\n",
    "# 이러이러한 조건으로\n",
    "    # 흑백사진으로\n",
    "    # 컬러바도 보이게 해주고\n",
    "plt.gray()\n",
    "plt.colorbar()\n",
    "# 조건을 갖춘 이미지를 보여줘.\n",
    "plt.show()"
   ]
  },
  {
   "cell_type": "markdown",
   "metadata": {},
   "source": [
    "모델 만들고, 모델 결과 요약본으로 확인하기"
   ]
  },
  {
   "cell_type": "code",
   "execution_count": null,
   "metadata": {},
   "outputs": [],
   "source": [
    "import tensorflow as tf\n",
    "import matplotlib.pyplot as plt\n",
    "\n",
    "### 구글에 있는 데이터셋 가져오기\n",
    "    # 이미지를 숫자로 변환할 때는 RGB 코드를 사용한다.\n",
    "    # RGB 코드는 0부터 255까지 있다.\n",
    "(trainX, trainY), (testX, testY) = tf.keras.datasets.fashion_mnist.load_data()\n",
    "\n",
    "### 불러온 데이터 값 확인하기\n",
    "# print(trainX[0])\n",
    "\n",
    "### 데이터 크기 확인하기\n",
    "# print(trainX.shape)\n",
    "\n",
    "### 카테고리 분류\n",
    "    # 불러온 데이터에서 숫자가 나오는데, 0이면 'T-shirt/top'\n",
    "class_names = ['T-shirt/top', 'Trouser', 'Pullover', 'Dress', 'Coat', 'Sandal', 'Shirt', 'Sneaker', 'Bag', 'Ankle boot']\n",
    "\n",
    "\n",
    "model = tf.keras.Sequential([\n",
    "    # input_shape = (28, 28)는 요약본을 확인하기 위해서.\n",
    "        # (28, 28)는 데이터 1개의 형태\n",
    "    # relu, softmax는 확률 예측에 사용하는 활성함수\n",
    "        # relu는 음수를 모두 0으로 만들어주는 활성함수\n",
    "        # softmax는 sigmoid와 같게 0~1 범위를 반환.\n",
    "            # 그러나 sigmoid는 불리언 타입처럼 예, 아니오만 답함.\n",
    "            # 하지만 softmax는 이보다 더 광범위한 답변을 내뱉음.\n",
    "    tf.keras.layers.Dense(128, input_shape = (28, 28), activation = \"relu\"),\n",
    "    tf.keras.layers.Dense(64, activation = \"relu\"),\n",
    "    tf.keras.layers.Dense(10, activation = \"softmax\")\n",
    "])\n",
    "\n",
    "# 결과 값이 1차원이 아닌 걸 확인할 수 있음.\n",
    "    # 1차원이 아닌 경우, 값을 수정해 줘야 함. (다음 파트 확인)\n",
    "model.summary()"
   ]
  },
  {
   "cell_type": "code",
   "execution_count": null,
   "metadata": {},
   "outputs": [],
   "source": [
    "import tensorflow as tf\n",
    "import matplotlib.pyplot as plt\n",
    "\n",
    "### 구글에 있는 데이터셋 가져오기\n",
    "    # 이미지를 숫자로 변환할 때는 RGB 코드를 사용한다.\n",
    "    # RGB 코드는 0부터 255까지 있다.\n",
    "(trainX, trainY), (testX, testY) = tf.keras.datasets.fashion_mnist.load_data()\n",
    "\n",
    "### 불러온 데이터 값 확인하기\n",
    "# print(trainX[0])\n",
    "\n",
    "### 데이터 크기 확인하기\n",
    "# print(trainX.shape)\n",
    "\n",
    "### 카테고리 분류\n",
    "    # 불러온 데이터에서 숫자가 나오는데, 0이면 'T-shirt/top'\n",
    "class_names = ['T-shirt/top', 'Trouser', 'Pullover', 'Dress', 'Coat', 'Sandal', 'Shirt', 'Sneaker', 'Bag', 'Ankle boot']\n",
    "\n",
    "\n",
    "model = tf.keras.Sequential([\n",
    "    tf.keras.layers.Dense(128, input_shape = (28, 28), activation = \"relu\"),\n",
    "    tf.keras.layers.Dense(64, activation = \"relu\"),\n",
    "    # 다차원 데이터를 일차원 데이터로 변환해줌\n",
    "    tf.keras.layers.Flatten(),\n",
    "    tf.keras.layers.Dense(10, activation = \"softmax\")\n",
    "])\n",
    "\n",
    "model.summary()"
   ]
  },
  {
   "cell_type": "markdown",
   "metadata": {},
   "source": [
    "모델 학습 전 준비"
   ]
  },
  {
   "cell_type": "code",
   "execution_count": null,
   "metadata": {},
   "outputs": [],
   "source": [
    "import tensorflow as tf\n",
    "import matplotlib.pyplot as plt\n",
    "\n",
    "### 구글에 있는 데이터셋 가져오기\n",
    "    # 이미지를 숫자로 변환할 때는 RGB 코드를 사용한다.\n",
    "    # RGB 코드는 0부터 255까지 있다.\n",
    "(trainX, trainY), (testX, testY) = tf.keras.datasets.fashion_mnist.load_data()\n",
    "\n",
    "### 불러온 데이터 값 확인하기\n",
    "# print(trainX[0])\n",
    "\n",
    "### 데이터 크기 확인하기\n",
    "# print(trainX.shape)\n",
    "\n",
    "### 카테고리 분류\n",
    "    # 불러온 데이터에서 숫자가 나오는데, 0이면 'T-shirt/top'\n",
    "class_names = ['T-shirt/top', 'Trouser', 'Pullover', 'Dress', 'Coat', 'Sandal', 'Shirt', 'Sneaker', 'Bag', 'Ankle boot']\n",
    "\n",
    "\n",
    "model = tf.keras.Sequential([\n",
    "    tf.keras.layers.Dense(128, input_shape = (28, 28), activation = \"relu\"),\n",
    "    tf.keras.layers.Dense(64, activation = \"relu\"),\n",
    "    tf.keras.layers.Flatten(),\n",
    "    tf.keras.layers.Dense(10, activation = \"softmax\")\n",
    "])\n",
    "\n",
    "model.summary()\n",
    "\n",
    "# 'sparse_categorical_crossentropy'는 카데고리 확률 예측 문제 등에 사용하는 손실함수\n",
    "model.compile(optimizer=\"adam\", loss=\"sparse_categorical_crossentropy\", metrics=[\"accuracy\"])"
   ]
  },
  {
   "cell_type": "markdown",
   "metadata": {},
   "source": [
    "모델 학습시키기"
   ]
  },
  {
   "cell_type": "code",
   "execution_count": null,
   "metadata": {},
   "outputs": [],
   "source": [
    "import tensorflow as tf\n",
    "import matplotlib.pyplot as plt\n",
    "\n",
    "### 구글에 있는 데이터셋 가져오기\n",
    "    # 이미지를 숫자로 변환할 때는 RGB 코드를 사용한다.\n",
    "    # RGB 코드는 0부터 255까지 있다.\n",
    "(trainX, trainY), (testX, testY) = tf.keras.datasets.fashion_mnist.load_data()\n",
    "\n",
    "### 불러온 데이터 값 확인하기\n",
    "# print(trainX[0])\n",
    "\n",
    "### 데이터 크기 확인하기\n",
    "# print(trainX.shape)\n",
    "\n",
    "### 카테고리 분류\n",
    "    # 불러온 데이터에서 숫자가 나오는데, 0이면 'T-shirt/top'\n",
    "class_names = ['T-shirt/top', 'Trouser', 'Pullover', 'Dress', 'Coat', 'Sandal', 'Shirt', 'Sneaker', 'Bag', 'Ankle boot']\n",
    "\n",
    "\n",
    "model = tf.keras.Sequential([\n",
    "    tf.keras.layers.Dense(128, input_shape = (28, 28), activation = \"relu\"),\n",
    "    tf.keras.layers.Dense(64, activation = \"relu\"),\n",
    "    tf.keras.layers.Flatten(),\n",
    "    tf.keras.layers.Dense(10, activation = \"softmax\")\n",
    "])\n",
    "\n",
    "model.summary()\n",
    "\n",
    "model.compile(optimizer=\"adam\", loss=\"sparse_categorical_crossentropy\", metrics=[\"accuracy\"])\n",
    "\n",
    "model.fit(trainX, trainY, epochs=10)"
   ]
  }
 ],
 "metadata": {
  "kernelspec": {
   "display_name": "Python 3",
   "language": "python",
   "name": "python3"
  },
  "language_info": {
   "codemirror_mode": {
    "name": "ipython",
    "version": 3
   },
   "file_extension": ".py",
   "mimetype": "text/x-python",
   "name": "python",
   "nbconvert_exporter": "python",
   "pygments_lexer": "ipython3",
   "version": "3.10.11"
  }
 },
 "nbformat": 4,
 "nbformat_minor": 2
}
