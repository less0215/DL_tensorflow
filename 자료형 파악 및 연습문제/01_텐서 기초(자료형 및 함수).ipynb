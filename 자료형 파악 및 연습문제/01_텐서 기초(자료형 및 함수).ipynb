{
 "cells": [
  {
   "cell_type": "markdown",
   "metadata": {},
   "source": [
    "파이선 버전이 3.11 이하 일 것!"
   ]
  },
  {
   "cell_type": "code",
   "execution_count": 2,
   "metadata": {},
   "outputs": [
    {
     "name": "stdout",
     "output_type": "stream",
     "text": [
      "WARNING:tensorflow:From c:\\Users\\User\\AppData\\Local\\Programs\\Python\\Python311\\Lib\\site-packages\\keras\\src\\losses.py:2976: The name tf.losses.sparse_softmax_cross_entropy is deprecated. Please use tf.compat.v1.losses.sparse_softmax_cross_entropy instead.\n",
      "\n"
     ]
    }
   ],
   "source": [
    "import tensorflow as tf"
   ]
  },
  {
   "cell_type": "markdown",
   "metadata": {},
   "source": [
    "백터 생성하기"
   ]
  },
  {
   "cell_type": "code",
   "execution_count": null,
   "metadata": {},
   "outputs": [],
   "source": [
    "# 대괄호를 한 번 감싸면, 백터이다.\n",
    "    # 백터는 1차원 데이터이다.\n",
    "        # 백터는 겉보기에는 리스트와 같아 보인다.\n",
    "            # 그러나 리스트와는 다르게 연산 범위가 다르다.\n",
    "                # 백터는 미분 계산 등을 지원한다. 반면 리스트는 미분 계산을 할 수 없다.\n",
    "행렬X = tf.constant( [10,20,30,40] )\n",
    "\n",
    "print(행렬X)"
   ]
  },
  {
   "cell_type": "markdown",
   "metadata": {},
   "source": [
    "행렬 곱셉"
   ]
  },
  {
   "cell_type": "code",
   "execution_count": null,
   "metadata": {},
   "outputs": [],
   "source": [
    "# 대괄호를 2번 감싸야만 행렬 곱셈을 할 수 있다.\n",
    "    # 대괄호를 1번 감싸면, 행렬이 아닌 '백터'이다.\n",
    "        # matmul()은 행렬 곱셈을 하는 메서드이기 때문에, constant()에 있는 값은 행렬 형태로 만들어 줘야 한다.\n",
    "행렬X = tf.constant( [[10,20,30,40]] )\n",
    "행렬W = tf.constant( [[20,30,40,50]] )\n",
    "\n",
    "# 뒤집는 이유는 행렬 곱셈을 하기 위해서 뒤집는 거다.\n",
    "행렬W뒤집은거 = tf.transpose(행렬W)\n",
    "\n",
    "노드1 = tf.matmul(행렬X, 행렬W뒤집은거)\n",
    "\n",
    "print(노드1)"
   ]
  },
  {
   "cell_type": "markdown",
   "metadata": {},
   "source": [
    "1차원 ~ 4차원 데이터 만들기"
   ]
  },
  {
   "cell_type": "code",
   "execution_count": null,
   "metadata": {},
   "outputs": [],
   "source": [
    "# 1차원 백터 생성\n",
    "# 행에 들어간 0 의 개수는? / 0이 들어간 행의 개수는? / 행은 몇 묶음? / 4차원 이상부터는 '묶음의 묶음'으로 해석 (해석은 소괄호 뒷값부터)\n",
    "# 행에 0이 2개 있다.\n",
    "test = tf.zeros(2)\n",
    "\n",
    "print(test)"
   ]
  },
  {
   "cell_type": "code",
   "execution_count": null,
   "metadata": {},
   "outputs": [],
   "source": [
    "# 2차원 백터 생성\n",
    "# 행에 0이 2개 있다. / 그 행이 2개 있다. / 이렇게 만든 2개의 행은 몇 묶음? 2묶음. \n",
    "test = tf.zeros((2, 2))\n",
    "\n",
    "print(test)"
   ]
  },
  {
   "cell_type": "code",
   "execution_count": null,
   "metadata": {},
   "outputs": [],
   "source": [
    "# 3차원 백터 생성\n",
    "# 행에 0이 4개 있다. / 그 행이 3개 만큼 있다. / 이렇게 만든 행은 몇 묶음? 2묶음. \n",
    "test = tf.zeros((2, 3, 4))\n",
    "\n",
    "print(test)"
   ]
  },
  {
   "cell_type": "code",
   "execution_count": null,
   "metadata": {},
   "outputs": [],
   "source": [
    "# 4차원 백터 생성\n",
    "# 행에 0이 5개 있다. / 그 행이 4개 만큼 있다. / 이렇게 만든 행은 몇 묶음? 3묶음. / 3x4x5가으로 만든 게 몇 묶음? 2 (뒤에서 부터 해석)\n",
    "test = tf.zeros((2, 3, 4, 5))\n",
    "\n",
    "print(test)"
   ]
  },
  {
   "cell_type": "markdown",
   "metadata": {},
   "source": [
    "1차원 ~ 4차원 Shape 확인하기"
   ]
  },
  {
   "cell_type": "code",
   "execution_count": 12,
   "metadata": {},
   "outputs": [
    {
     "name": "stdout",
     "output_type": "stream",
     "text": [
      "(3,)\n"
     ]
    }
   ],
   "source": [
    "test = tf.constant([2, 3, 4])\n",
    "\n",
    "\n",
    "print(test.shape)"
   ]
  },
  {
   "cell_type": "code",
   "execution_count": 10,
   "metadata": {},
   "outputs": [
    {
     "name": "stdout",
     "output_type": "stream",
     "text": [
      "(2, 3)\n"
     ]
    }
   ],
   "source": [
    "test = tf.constant([[2, 3, 4],\n",
    "                    [4, 5, 6]])\n",
    "\n",
    "\n",
    "print(test.shape)"
   ]
  },
  {
   "cell_type": "code",
   "execution_count": 9,
   "metadata": {},
   "outputs": [
    {
     "name": "stdout",
     "output_type": "stream",
     "text": [
      "(1, 2, 3)\n"
     ]
    }
   ],
   "source": [
    "test = tf.constant([[[2, 3, 4],\n",
    "                    [4, 5, 6]]])\n",
    "\n",
    "\n",
    "print(test.shape)"
   ]
  },
  {
   "cell_type": "code",
   "execution_count": 13,
   "metadata": {},
   "outputs": [
    {
     "name": "stdout",
     "output_type": "stream",
     "text": [
      "(1, 1, 2, 3)\n"
     ]
    }
   ],
   "source": [
    "test = tf.constant([[[[2, 3, 4],\n",
    "                    [4, 5, 6]]]])\n",
    "\n",
    "\n",
    "print(test.shape)"
   ]
  }
 ],
 "metadata": {
  "kernelspec": {
   "display_name": "Python 3",
   "language": "python",
   "name": "python3"
  },
  "language_info": {
   "codemirror_mode": {
    "name": "ipython",
    "version": 3
   },
   "file_extension": ".py",
   "mimetype": "text/x-python",
   "name": "python",
   "nbconvert_exporter": "python",
   "pygments_lexer": "ipython3",
   "version": "3.11.9"
  }
 },
 "nbformat": 4,
 "nbformat_minor": 2
}
