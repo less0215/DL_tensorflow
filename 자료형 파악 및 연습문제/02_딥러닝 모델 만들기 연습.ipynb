{
 "cells": [
  {
   "cell_type": "code",
   "execution_count": 8,
   "metadata": {},
   "outputs": [
    {
     "name": "stdout",
     "output_type": "stream",
     "text": [
      "<tf.Variable 'Variable:0' shape=() dtype=float32, numpy=0.19999935> <tf.Variable 'Variable:0' shape=() dtype=float32, numpy=0.29999933>\n"
     ]
    }
   ],
   "source": [
    "import tensorflow as tf\n",
    "\n",
    "# 구할 값 변수에 지정하기\n",
    "    # 지정한 후에 예측값으로 사용할 식 정하기\n",
    "키 = 170\n",
    "신발 = 260\n",
    "# 신발 = 키*a + b\n",
    "\n",
    "# weight 값 정하기\n",
    "    # 소괄호 안에 들어간 값은 초기값. 아무 거나 넣어봐도 됨.\n",
    "w1 = tf.Variable(0.1)\n",
    "w2 = tf.Variable(0.2)\n",
    "\n",
    "# 경사하강법 어떻게 할지 정하기\n",
    "    # 경사하강법이란, w값을 업데이트 할 때 쓰는 기법\n",
    "        # 러닝레이트는 경사하강법의 정도를 결정 짓는 것. 선택사항이다.\n",
    "            # 하지만 러닝레이트는 입력하는 게 좋다. 가짜 최저점을 볼 수 있기 때문이다.\n",
    "opt = tf.keras.optimizers.Adam(learning_rate=0.1)\n",
    "\n",
    "def 손실함수():\n",
    "    예측값 = 키*w1 + w2\n",
    "    return tf.square(260 - 예측값)\n",
    "\n",
    "# 경사하강법 실행하기\n",
    "    # minimize(손실함수, var_list=[w1, w2])\n",
    "opt.minimize(손실함수, var_list=[w1, w2])\n",
    "\n",
    "print(w1, w2)"
   ]
  },
  {
   "cell_type": "markdown",
   "metadata": {},
   "source": [
    "경사하강법 실행"
   ]
  },
  {
   "cell_type": "code",
   "execution_count": null,
   "metadata": {},
   "outputs": [],
   "source": [
    "# 경사하강법 여러번 해서 값 찾아내기\n",
    "for i in range(300):\n",
    "    opt.minimize(손실함수, var_list=[w1, w2])\n",
    "    print(w1, w2)"
   ]
  },
  {
   "cell_type": "code",
   "execution_count": null,
   "metadata": {},
   "outputs": [],
   "source": [
    "# w1, w2 값을 직접적으로 보고 싶으면 numpy() 사용하기\n",
    "for i in range(300):\n",
    "    opt.minimize(손실함수, var_list=[w1, w2])\n",
    "    print(w1.numpy(),  w2.numpy())"
   ]
  },
  {
   "cell_type": "markdown",
   "metadata": {},
   "source": [
    "검증"
   ]
  },
  {
   "cell_type": "code",
   "execution_count": 18,
   "metadata": {},
   "outputs": [
    {
     "name": "stdout",
     "output_type": "stream",
     "text": [
      "260.02\n"
     ]
    }
   ],
   "source": [
    "# 키 170인 사람의 신발사이즈는?\n",
    "검증 = 170*1.52 + 1.62\n",
    "print(검증)"
   ]
  }
 ],
 "metadata": {
  "kernelspec": {
   "display_name": "Python 3",
   "language": "python",
   "name": "python3"
  },
  "language_info": {
   "codemirror_mode": {
    "name": "ipython",
    "version": 3
   },
   "file_extension": ".py",
   "mimetype": "text/x-python",
   "name": "python",
   "nbconvert_exporter": "python",
   "pygments_lexer": "ipython3",
   "version": "3.10.11"
  }
 },
 "nbformat": 4,
 "nbformat_minor": 2
}
