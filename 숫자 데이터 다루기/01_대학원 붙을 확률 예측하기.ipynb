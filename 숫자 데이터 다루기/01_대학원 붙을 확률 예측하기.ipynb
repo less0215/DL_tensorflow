{
 "cells": [
  {
   "cell_type": "markdown",
   "metadata": {},
   "source": [
    "### 데이터 준비"
   ]
  },
  {
   "cell_type": "markdown",
   "metadata": {},
   "source": [
    "데이터 불러오기"
   ]
  },
  {
   "cell_type": "code",
   "execution_count": null,
   "metadata": {},
   "outputs": [],
   "source": [
    "import pandas as pd\n",
    "\n",
    "data = pd.read_csv('gpascore.csv')\n",
    "data"
   ]
  },
  {
   "cell_type": "markdown",
   "metadata": {},
   "source": [
    "데이터 전처리"
   ]
  },
  {
   "cell_type": "code",
   "execution_count": 20,
   "metadata": {},
   "outputs": [
    {
     "data": {
      "text/plain": [
       "admit    0\n",
       "gre      0\n",
       "gpa      0\n",
       "rank     0\n",
       "dtype: int64"
      ]
     },
     "execution_count": 20,
     "metadata": {},
     "output_type": "execute_result"
    }
   ],
   "source": [
    "# null 여부 확인\n",
    "data.isnull().sum()\n",
    "# null 제거\n",
    "    # 제거 후 데이터 다시 변수에 담아주기\n",
    "data = data.dropna()\n",
    "# 제거 여부 확인\n",
    "data.isnull().sum()"
   ]
  },
  {
   "cell_type": "markdown",
   "metadata": {},
   "source": [
    "데이터 확인"
   ]
  },
  {
   "cell_type": "markdown",
   "metadata": {},
   "source": [
    "y데이터(정답데이터) 만들기"
   ]
  },
  {
   "cell_type": "code",
   "execution_count": null,
   "metadata": {},
   "outputs": [],
   "source": [
    "# 열에 있는 데이터 y데이터에 담기\n",
    "y데이터 = data['admit']\n",
    "y데이터"
   ]
  },
  {
   "cell_type": "markdown",
   "metadata": {},
   "source": [
    "x데이터 (학습데이터) 만들기"
   ]
  },
  {
   "cell_type": "code",
   "execution_count": null,
   "metadata": {},
   "outputs": [],
   "source": [
    "x데이터 = []\n",
    "\n",
    "# .iterrows는 판다스에 있는 메서드\n",
    "    # 각 행을 한 개씩 출력해준다.\n",
    "# i를 사용하지 않는데도 작성한 이유는?\n",
    "    # .iterrows()는 값을 두 개 반환하기 때문에, i를 명시해 줘야 한다.\n",
    "    # 여기서 i는 인덱스 번호를 담당한다.\n",
    "for i, rows in data.iterrows():\n",
    "    print(rows)"
   ]
  },
  {
   "cell_type": "code",
   "execution_count": null,
   "metadata": {},
   "outputs": [],
   "source": [
    "x데이터 = []\n",
    "\n",
    "for i, rows in data.iterrows():\n",
    "    print(rows['gre'])\n",
    "    print(rows['gpa'])\n",
    "    print(rows['rank'])"
   ]
  },
  {
   "cell_type": "code",
   "execution_count": null,
   "metadata": {},
   "outputs": [],
   "source": [
    "x데이터 = []\n",
    "\n",
    "for i, rows in data.iterrows():\n",
    "    x데이터.append([rows['gre'], rows['gpa'], rows['rank']])\n",
    "\n",
    "x데이터"
   ]
  },
  {
   "cell_type": "markdown",
   "metadata": {},
   "source": [
    "딥러닝 모델 만들기"
   ]
  },
  {
   "cell_type": "code",
   "execution_count": null,
   "metadata": {},
   "outputs": [],
   "source": [
    "import tensorflow as tf\n",
    "\n",
    "# 모델 만들기\n",
    "    # 레이어 만들기\n",
    "    # 노드 개수 정하기\n",
    "        # 관습적으로 2의 제곱수를 많이 사용\n",
    "    # 활성함수 지정하기\n",
    "        # 목적에 따라 다른 활성함수를 사용\n",
    "        # 0~1 사이의 결과 값을 원할 때는 sigmoid\n",
    "model = tf.keras.models.Sequential([\n",
    "    tf.keras.layers.Dense(64, activation = 'tanh'),\n",
    "    tf.keras.layers.Dense(128, activation = 'tanh'),\n",
    "    tf.keras.layers.Dense(1, activation = 'sigmoid')\n",
    "])\n",
    "\n",
    "\n",
    "# 모델 학습 전 준비\n",
    "    # 최적화 알고리즘 설정\n",
    "    # 손실함수 방식 설정\n",
    "    # 평가 방법 지정\n",
    "model.compile(optimizer = 'adam', loss = 'binary_crossentropy', metrics = ['accuracy'])\n",
    "\n",
    "# 모델 학습시키기\n",
    "    # fit(학습 데이터, 정답 데이터, 학습 횟수)\n",
    "model.fit(x데이터, y데이터, epochs=10)"
   ]
  },
  {
   "cell_type": "markdown",
   "metadata": {},
   "source": [
    "딥러닝 모델 학습시키기"
   ]
  },
  {
   "cell_type": "code",
   "execution_count": null,
   "metadata": {},
   "outputs": [],
   "source": [
    "import tensorflow as tf\n",
    "import numpy as np\n",
    "\n",
    "# 모델 만들기\n",
    "    # 레이어 만들기\n",
    "    # 노드 개수 정하기\n",
    "        # 관습적으로 2의 제곱수를 많이 사용\n",
    "    # 활성함수 지정하기\n",
    "        # 목적에 따라 다른 활성함수를 사용\n",
    "        # 0~1 사이의 결과 값을 원할 때는 sigmoid\n",
    "model = tf.keras.models.Sequential([\n",
    "    tf.keras.layers.Dense(64, activation = 'tanh'),\n",
    "    tf.keras.layers.Dense(128, activation = 'tanh'),\n",
    "    tf.keras.layers.Dense(1, activation = 'sigmoid')\n",
    "])\n",
    "\n",
    "\n",
    "# 모델 학습 전 준비\n",
    "    # 최적화 알고리즘 설정\n",
    "    # 손실함수 방식 설정\n",
    "    # 평가 방법 지정\n",
    "model.compile(optimizer = 'adam', loss = 'binary_crossentropy', metrics = ['accuracy'])\n",
    "\n",
    "# 모델 학습시키기\n",
    "    # fit(학습 데이터, 정답 데이터, 학습 횟수)\n",
    "        # loss는 실제와 예측값의 차이. 낮을 수록 좋다.\n",
    "        # accuracy는 실제 값과 얼마나 유사한건지 가늠하는 수치. 높을 수록 좋다. \n",
    "        # 원하는 값이 나올 때까지 epochs와 같은 파라미터 등을 조절한다.\n",
    "    # 리스트를 그대로 인자로 넣을 수 없다.\n",
    "        # 리스트는 np 또는 tf로 자료형을 변형해서 넣어 줘야 한다.\n",
    "model.fit(np.array(x데이터), np.array(y데이터), epochs=100)"
   ]
  },
  {
   "cell_type": "markdown",
   "metadata": {},
   "source": [
    "모델 갖고 데이터 예측하기"
   ]
  },
  {
   "cell_type": "code",
   "execution_count": null,
   "metadata": {},
   "outputs": [],
   "source": [
    "import tensorflow as tf\n",
    "import numpy as np\n",
    "\n",
    "# 모델 만들기\n",
    "    # 레이어 만들기\n",
    "    # 노드 개수 정하기\n",
    "        # 관습적으로 2의 제곱수를 많이 사용\n",
    "    # 활성함수 지정하기\n",
    "        # 목적에 따라 다른 활성함수를 사용\n",
    "        # 0~1 사이의 결과 값을 원할 때는 sigmoid\n",
    "model = tf.keras.models.Sequential([\n",
    "    tf.keras.layers.Dense(64, activation = 'tanh'),\n",
    "    tf.keras.layers.Dense(128, activation = 'tanh'),\n",
    "    tf.keras.layers.Dense(1, activation = 'sigmoid')\n",
    "])\n",
    "\n",
    "\n",
    "# 모델 학습 전 준비\n",
    "    # 최적화 알고리즘 설정\n",
    "    # 손실함수 방식 설정\n",
    "    # 평가 방법 지정\n",
    "model.compile(optimizer = 'adam', loss = 'binary_crossentropy', metrics = ['accuracy'])\n",
    "\n",
    "# 모델 학습시키기\n",
    "    # fit(학습 데이터, 정답 데이터, 학습 횟수)\n",
    "        # loss는 실제와 예측값의 차이. 낮을 수록 좋다.\n",
    "        # accuracy는 실제 값과 얼마나 유사한건지 가늠하는 수치. 높을 수록 좋다. \n",
    "        # 원하는 값이 나올 때까지 epochs와 같은 파라미터 등을 조절한다.\n",
    "model.fit(np.array(x데이터), np.array(y데이터), epochs=100)\n",
    "\n",
    "예측값 = model.predict([[750, 3.70, 3], [400, 2.2, 2]])\n",
    "예측값"
   ]
  }
 ],
 "metadata": {
  "kernelspec": {
   "display_name": "Python 3",
   "language": "python",
   "name": "python3"
  },
  "language_info": {
   "codemirror_mode": {
    "name": "ipython",
    "version": 3
   },
   "file_extension": ".py",
   "mimetype": "text/x-python",
   "name": "python",
   "nbconvert_exporter": "python",
   "pygments_lexer": "ipython3",
   "version": "3.10.11"
  }
 },
 "nbformat": 4,
 "nbformat_minor": 2
}
